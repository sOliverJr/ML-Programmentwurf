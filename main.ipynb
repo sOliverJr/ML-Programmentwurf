{
 "cells": [
  {
   "attachments": {},
   "cell_type": "markdown",
   "metadata": {},
   "source": [
    "# ML Programmentwurf\n",
    "\n",
    "> **Algorythmus**: Klassifikation\n",
    ">\n",
    "> **Datensatz**: Iris\n",
    ">\n",
    "> **Autor**: Oliver Seider\n"
   ]
  },
  {
   "attachments": {},
   "cell_type": "markdown",
   "metadata": {},
   "source": [
    "## Dataset Einlesen\n",
    "\n",
    "Der Datensatz wird mit Pandas eingelesen. Es werden zusätzlich Namen für die Spalten definiert, obwohl diese ab dem nächten Schritt nicht mehr von Relevanz sind.\n",
    "\n",
    "Anschließend wird der Datensatz mit Hilfe von *numpy* in ein zweidimensionales Array umgewandelt."
   ]
  },
  {
   "cell_type": "code",
   "execution_count": null,
   "metadata": {},
   "outputs": [],
   "source": [
    "import pandas as pd\n",
    "\n",
    "\n",
    "headers = ['sepal length', 'sepal width', 'petal length', 'petal width', 'category']\n",
    "pandas_dataframe = pd.read_csv('iris.data', header=None, names=headers)\n",
    "\n",
    "array_2d = pandas_dataframe.to_numpy()\n",
    "\n",
    "# print(pandas_dataframe)\n",
    "# print(array_2d)\n",
    "print('There are {0} samples in the dataset'.format(len(array_2d)))"
   ]
  },
  {
   "attachments": {},
   "cell_type": "markdown",
   "metadata": {},
   "source": [
    "## Umformen der Daten\n",
    "Das Zweidimensionale Daten-Array wird in einem nächten Schritt in Features und Kategorie aufgeteilt."
   ]
  },
  {
   "cell_type": "code",
   "execution_count": null,
   "metadata": {},
   "outputs": [],
   "source": [
    "data_array_2d = array_2d[:150,:4]\n",
    "category_array = array_2d[:150, 4:].reshape([150])\n",
    "\n",
    "# print(data_array_2d)\n",
    "# print(category_array)"
   ]
  },
  {
   "attachments": {},
   "cell_type": "markdown",
   "metadata": {},
   "source": [
    "## Aufteilen der Daten in Lern- und Testdaten\n",
    "Der Test-Datensatz stellt 25 Prozent der Originaldaten dar. Bei der Aufspaltung wurde ein Zufallskoeffizient von 0 gewählt, was bedeutet dass immer die selbe Aufteilung ausgegeben wird."
   ]
  },
  {
   "cell_type": "code",
   "execution_count": null,
   "metadata": {},
   "outputs": [],
   "source": [
    "from sklearn.model_selection import train_test_split\n",
    "\n",
    "reshaped_data_train, reshaped_data_test, target_data_train, target_data_test = train_test_split(data_array_2d, category_array, test_size=0.25, random_state=0)"
   ]
  },
  {
   "attachments": {},
   "cell_type": "markdown",
   "metadata": {},
   "source": [
    "## Erstellen des Modells\n",
    "In dem nächsten Schritt wird die ***Support Vector Classification*** von *sklearn* eingesetzt, um ein Modell anhand der Lerndaten zu erstellen. \n",
    "Dafür wird die ***Radial Basis Function*** (kurz: *rbf*) als Kernel eingesetzt.\n",
    "\n",
    "Der 'probability=True' Parameter ermöglicht es, die Wahrscheinlichkeiten mit denen eine Klasse erkannt wurde durch eine interne *5-fold cross-validation* auszugeben."
   ]
  },
  {
   "cell_type": "code",
   "execution_count": null,
   "metadata": {},
   "outputs": [],
   "source": [
    "from sklearn import svm\n",
    "\n",
    "# Definition des Modells\n",
    "classifier = svm.SVC(kernel='rbf', probability=True)\n",
    "\n",
    "# Einlernen der Daten\n",
    "classifier.fit(reshaped_data_train, target_data_train)"
   ]
  },
  {
   "attachments": {},
   "cell_type": "markdown",
   "metadata": {},
   "source": [
    "## Testen des Modells\n",
    "Nun wird Anhand des Modells für die Testdaten entschieden, zu welcher Klasse diese gehören.\n",
    "Die Variable *p_y* gibt die Wahscheinlichkeit p, mit welcher ein Datensatz zu einer jeweiligen Klasse angehört."
   ]
  },
  {
   "cell_type": "code",
   "execution_count": null,
   "metadata": {},
   "outputs": [],
   "source": [
    "# Klassen-Angehörigkeit von jedem Datensatatz nach dem Modell\n",
    "y = classifier.predict(reshaped_data_test)\n",
    "\n",
    "# Wahscheinlichkeit, mit welcher ein Datensatz zu den jeweiligen Klassen angehört\n",
    "p_y = classifier.predict_proba(reshaped_data_test)\n",
    "\n",
    "\n",
    "# print(y)\n",
    "# print(p_y)"
   ]
  },
  {
   "attachments": {},
   "cell_type": "markdown",
   "metadata": {},
   "source": [
    "## Evaluierung des Modells\n",
    "In diesem letzten Schritt werden die Ergebnisse aus dem Vorherigen Schritt anhand von einem *Classification Report* und einer *Confusion Matrix* evaluiert.\n",
    "\n",
    "**Classification Report:**\n",
    "- *Precision*: Gibt an, wie viele der identifizierten Elemente *true positives* sind (true positives / [true positives + false positives]).\n",
    "- *Recall*: Gibt an, wie viele Elemente, die einer Klasse angehören, dieser auch zugeteilt wurden (true positives / [true positives + false negatives])\n",
    "- *F1-Score*: Harmonischer Mittelwert aus *Precision* und *Recall*\n",
    "- *Support*: Anzahl an Datensätzen, die zum Bestimmen der vorherigen Werte verwendet wurden.\n",
    "\n",
    "**Confusion Matrix:**\n",
    "Zweidimensionale Matrix, die für jede Klasse und deren Datensätze zeigt, wie häufig das Modell einen Datensatz einer Klasse zugeordnet hat. \n",
    "Dabei stellt jede Spalte eine Klasse und dessen Datensätze dar, während die Spalten angeben wie oft eine Datensatz dieser Klasse zugeordnet wurde."
   ]
  },
  {
   "cell_type": "code",
   "execution_count": null,
   "metadata": {},
   "outputs": [],
   "source": [
    "from sklearn import metrics\n",
    "\n",
    "\n",
    "print('Classification Report:')\n",
    "print(metrics.classification_report(target_data_test, y))\n",
    "\n",
    "print('Confusion Matrix:')\n",
    "print(metrics.confusion_matrix(target_data_test, y))"
   ]
  }
 ],
 "metadata": {
  "kernelspec": {
   "display_name": ".venv",
   "language": "python",
   "name": "python3"
  },
  "language_info": {
   "codemirror_mode": {
    "name": "ipython",
    "version": 3
   },
   "file_extension": ".py",
   "mimetype": "text/x-python",
   "name": "python",
   "nbconvert_exporter": "python",
   "pygments_lexer": "ipython3",
   "version": "3.10.2"
  },
  "orig_nbformat": 4
 },
 "nbformat": 4,
 "nbformat_minor": 2
}
